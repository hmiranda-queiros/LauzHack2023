{
 "cells": [
  {
   "cell_type": "code",
   "execution_count": 72,
   "metadata": {},
   "outputs": [],
   "source": [
    "from openai import OpenAI\n",
    "from google_images_search import GoogleImagesSearch\n",
    "import json\n"
   ]
  },
  {
   "cell_type": "code",
   "execution_count": 62,
   "metadata": {},
   "outputs": [],
   "source": [
    "try:\n",
    "    with open('openai_key.txt', 'r') as file:\n",
    "        openai_key = file.read()\n",
    "except Exception as e:\n",
    "        print(e)\n",
    "\n",
    "\n",
    "try:\n",
    "    with open('google_api_key.txt', 'r') as file:\n",
    "        google_api_key = file.read()\n",
    "except Exception as e:\n",
    "        print(e)\n",
    "\n",
    "try:\n",
    "    with open('google_cse.txt', 'r') as file:\n",
    "        google_cse = file.read()\n",
    "except Exception as e:\n",
    "        print(e)\n"
   ]
  },
  {
   "cell_type": "code",
   "execution_count": 63,
   "metadata": {},
   "outputs": [],
   "source": [
    "client = OpenAI(\n",
    "        api_key=openai_key,\n",
    "    )"
   ]
  },
  {
   "cell_type": "code",
   "execution_count": 76,
   "metadata": {},
   "outputs": [],
   "source": [
    "def get_images(query):\n",
    "    gis = GoogleImagesSearch(google_api_key, google_cse)\n",
    "    _search_params = {\n",
    "        'q': query,\n",
    "        'num': 1,\n",
    "        'fileType': 'jpg|gif|png',\n",
    "        'imgType': 'photo',\n",
    "        'searchType': 'image',\n",
    "    }\n",
    "    gis.search(search_params=_search_params)\n",
    "    for image in gis.results():\n",
    "        return image.url"
   ]
  },
  {
   "cell_type": "code",
   "execution_count": 77,
   "metadata": {},
   "outputs": [
    {
     "name": "stdout",
     "output_type": "stream",
     "text": [
      "{'results': [{'name': 'Uetliberg', 'address': 'Uetliberg, 8143 Üetliberg, Switzerland', 'description': 'Uetliberg is a mountain in the Swiss plateau, part of the Albis chain, rising to 869 meters. It offers stunning panoramic views of Zurich and the surrounding region.', 'image': 'https://www.zuerich.com/sites/default/files/web_zuerich_uetliberg_1280x960_9573.jpg'}, {'name': 'Rigi Mountain', 'address': 'Rigi, 6410 Rigi Kaltbad, Switzerland', 'description': 'Rigi Mountain is known as the queen of the mountains and offers breathtaking views of the Swiss Alps and neighbouring lakes. It is easily accessible from Zurich and offers numerous hiking trails for all levels of difficulty.', 'image': 'https://dynamic-media-cdn.tripadvisor.com/media/photo-o/08/b7/62/f9/mt-rigi.jpg?w=1200&h=1200&s=1'}, {'name': 'Glarus Thrust', 'address': 'Glarus Thrust, 8762 Selun, Switzerland', 'description': 'Glarus Thrust is a geologic phenomenon that can be explored through various hiking trails. It showcases the collision and folding of rock layers, creating stunning landscapes and viewpoints.', 'image': 'https://upload.wikimedia.org/wikipedia/commons/6/64/Glarus_Thrust_Fault_in_Switzerland_2018.jpg'}, {'name': 'Grossmünster', 'address': 'Grossmünster, 8001 Zürich, Switzerland', 'description': 'The Grossmünster is a Romanesque-style Protestant church in Zurich. It offers a combination of historical significance and stunning architecture, making it a great place to visit for both hikers and culture enthusiasts.', 'image': 'https://upload.wikimedia.org/wikipedia/commons/1/11/Grossm%C3%BCnster_-_M%C3%BCnsterhof_2014-05-23_12-08-43.JPG'}, {'name': 'Niederhorn', 'address': 'Niederhorn, 3653 Oberhofen am Thunersee, Switzerland', 'description': 'Niederhorn is a mountain located near Lake Thun. It offers beautiful panoramic views of the Bernese Alps and numerous hiking trails. It can be easily reached from Zurich by train and boat.', 'image': 'https://img.ecmaps.de/remote/.jpg?url=https%3A%2F%2Fdam.destination.one%2F1393103%2Fa8efda3cfd54d926dccf164ecb2e41d8775feec5f9b4481ee318f4f4bf8465d2%2F.jpg&scale=both&mode=crop&quality=90&width=2560&height=1440'}]}\n"
     ]
    }
   ],
   "source": [
    "def generate_response(prompt,location=\"Lausanne\"):   \n",
    "\n",
    "    completion = client.chat.completions.create(\n",
    "    messages=[\n",
    "    {\"role\": \"system\", \"content\": f\"You are travel advisor in Switzerland. The client will describe their preferences and you will suggest a place to visit. you should output a json containing a list results of up to 5 results containing:\\\n",
    "    name: the name of the place,\\n \\\n",
    "    address: the adress\\n \\\n",
    "    description: a short description of the place\\n \\\n",
    "     image: keep this empty for now. \\n \\\n",
    "     You should prioritize places that are close to {location}.\"},\n",
    "    {\"role\": \"user\", \"content\": prompt},\n",
    "  ],\n",
    "    model=\"gpt-3.5-turbo\",\n",
    ")\n",
    "    query_results = json.loads(completion.choices[0].message.content)\n",
    "    # add an empty image field to the results\n",
    "    \n",
    "    for result in query_results['results']:\n",
    "        image = get_images(result['name'])\n",
    "        result['image'] = image\n",
    "        \n",
    "    \n",
    "    \n",
    "    return query_results"
   ]
  },
  {
   "cell_type": "code",
   "execution_count": null,
   "metadata": {},
   "outputs": [],
   "source": []
  }
 ],
 "metadata": {
  "kernelspec": {
   "display_name": "aienv",
   "language": "python",
   "name": "python3"
  },
  "language_info": {
   "codemirror_mode": {
    "name": "ipython",
    "version": 3
   },
   "file_extension": ".py",
   "mimetype": "text/x-python",
   "name": "python",
   "nbconvert_exporter": "python",
   "pygments_lexer": "ipython3",
   "version": "3.12.0"
  }
 },
 "nbformat": 4,
 "nbformat_minor": 2
}
